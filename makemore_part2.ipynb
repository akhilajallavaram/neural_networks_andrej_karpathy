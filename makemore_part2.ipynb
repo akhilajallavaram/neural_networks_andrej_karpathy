{
 "cells": [
  {
   "cell_type": "code",
   "execution_count": 1,
   "id": "e26e118a",
   "metadata": {},
   "outputs": [],
   "source": [
    "import torch\n",
    "import torch.nn.functional as F\n",
    "import matplotlib.pyplot as plt # for making figures\n",
    "%matplotlib inline"
   ]
  },
  {
   "cell_type": "code",
   "execution_count": 2,
   "id": "9f3a094b",
   "metadata": {},
   "outputs": [
    {
     "data": {
      "text/plain": [
       "['pratul',\n",
       " 'thanaraj',\n",
       " 'mantik',\n",
       " 'yadita',\n",
       " 'medhani',\n",
       " 'prathoshan',\n",
       " 'sumanan',\n",
       " 'siri']"
      ]
     },
     "execution_count": 2,
     "metadata": {},
     "output_type": "execute_result"
    }
   ],
   "source": [
    "import random\n",
    "words = open('Indian_Names.txt', 'r').read().splitlines()\n",
    "\n",
    "random.shuffle(words)\n",
    "words = [w.lower() for w in words]\n",
    "words[:8]"
   ]
  },
  {
   "cell_type": "code",
   "execution_count": 3,
   "id": "dec00f48",
   "metadata": {},
   "outputs": [
    {
     "data": {
      "text/plain": [
       "53982"
      ]
     },
     "execution_count": 3,
     "metadata": {},
     "output_type": "execute_result"
    }
   ],
   "source": [
    "\n",
    "len(words)"
   ]
  },
  {
   "cell_type": "code",
   "execution_count": 4,
   "id": "0f10c6db",
   "metadata": {},
   "outputs": [
    {
     "name": "stdout",
     "output_type": "stream",
     "text": [
      "{1: 'a', 2: 'b', 3: 'c', 4: 'd', 5: 'e', 6: 'f', 7: 'g', 8: 'h', 9: 'i', 10: 'j', 11: 'k', 12: 'l', 13: 'm', 14: 'n', 15: 'o', 16: 'p', 17: 'q', 18: 'r', 19: 's', 20: 't', 21: 'u', 22: 'v', 23: 'w', 24: 'x', 25: 'y', 26: 'z', 0: '.'}\n"
     ]
    }
   ],
   "source": [
    "chars = sorted(list(set(''.join(words))))\n",
    "stoi = {s:i+1 for i,s in enumerate(chars)}\n",
    "stoi['.'] = 0\n",
    "itos = {i:s for s,i in stoi.items()}\n",
    "print(itos)"
   ]
  },
  {
   "cell_type": "code",
   "execution_count": 5,
   "id": "68f3bbe8",
   "metadata": {},
   "outputs": [
    {
     "name": "stdout",
     "output_type": "stream",
     "text": [
      "27\n"
     ]
    }
   ],
   "source": [
    "print(len(itos))"
   ]
  },
  {
   "cell_type": "code",
   "execution_count": 6,
   "id": "256c57cf",
   "metadata": {},
   "outputs": [
    {
     "name": "stdout",
     "output_type": "stream",
     "text": [
      "pratul\n",
      "... ---> p\n",
      "..p ---> r\n",
      ".pr ---> a\n",
      "pra ---> t\n",
      "rat ---> u\n",
      "atu ---> l\n",
      "tul ---> .\n",
      "thanaraj\n",
      "... ---> t\n",
      "..t ---> h\n",
      ".th ---> a\n",
      "tha ---> n\n",
      "han ---> a\n",
      "ana ---> r\n",
      "nar ---> a\n",
      "ara ---> j\n",
      "raj ---> .\n",
      "mantik\n",
      "... ---> m\n",
      "..m ---> a\n",
      ".ma ---> n\n",
      "man ---> t\n",
      "ant ---> i\n",
      "nti ---> k\n",
      "tik ---> .\n",
      "yadita\n",
      "... ---> y\n",
      "..y ---> a\n",
      ".ya ---> d\n",
      "yad ---> i\n",
      "adi ---> t\n",
      "dit ---> a\n",
      "ita ---> .\n",
      "medhani\n",
      "... ---> m\n",
      "..m ---> e\n",
      ".me ---> d\n",
      "med ---> h\n",
      "edh ---> a\n",
      "dha ---> n\n",
      "han ---> i\n",
      "ani ---> .\n"
     ]
    }
   ],
   "source": [
    "\n",
    "# build the dataset\n",
    "block_size = 3 # context length: how many characters do we take to predict the next one?\n",
    "X, Y = [], []\n",
    "for w in words[:5]:\n",
    "  \n",
    "  print(w)\n",
    "  context = [0] * block_size\n",
    "  for ch in w + '.':\n",
    "    ix = stoi[ch]\n",
    "    X.append(context)\n",
    "    Y.append(ix)\n",
    "    print(''.join(itos[i] for i in context), '--->', itos[ix])\n",
    "    context = context[1:] + [ix] # crop and append\n",
    "  \n",
    "X = torch.tensor(X)\n",
    "Y = torch.tensor(Y)"
   ]
  },
  {
   "cell_type": "code",
   "execution_count": 7,
   "id": "4541de46",
   "metadata": {},
   "outputs": [
    {
     "data": {
      "text/plain": [
       "(torch.Size([38, 3]), torch.int64, torch.Size([38]), torch.int64)"
      ]
     },
     "execution_count": 7,
     "metadata": {},
     "output_type": "execute_result"
    }
   ],
   "source": [
    "X.shape, X.dtype, Y.shape, Y.dtype"
   ]
  },
  {
   "cell_type": "code",
   "execution_count": 8,
   "id": "42836714",
   "metadata": {},
   "outputs": [],
   "source": [
    "C =  torch.randn((27,2))"
   ]
  },
  {
   "cell_type": "code",
   "execution_count": 9,
   "id": "f0da4def",
   "metadata": {},
   "outputs": [
    {
     "data": {
      "text/plain": [
       "torch.Size([38, 3, 2])"
      ]
     },
     "execution_count": 9,
     "metadata": {},
     "output_type": "execute_result"
    }
   ],
   "source": [
    "emb = C[X]\n",
    "emb.shape"
   ]
  },
  {
   "cell_type": "code",
   "execution_count": 10,
   "id": "83b0a8a1",
   "metadata": {},
   "outputs": [],
   "source": [
    "W1 = torch.randn((6,100))\n",
    "b1 = torch.randn(100)"
   ]
  },
  {
   "cell_type": "code",
   "execution_count": 11,
   "id": "2e4d1fda",
   "metadata": {},
   "outputs": [],
   "source": [
    "h = torch.tanh(emb.view(-1,6) @ W1+b1)"
   ]
  },
  {
   "cell_type": "code",
   "execution_count": 12,
   "id": "c43c85d6",
   "metadata": {},
   "outputs": [
    {
     "data": {
      "text/plain": [
       "tensor([[ 0.2450, -0.9962,  0.6688,  ..., -0.6012,  0.9286, -0.9471],\n",
       "        [-0.5319, -0.9793,  0.8981,  ..., -0.6327,  0.9904, -0.9098],\n",
       "        [ 0.6947, -0.9446,  0.3798,  ..., -0.9055,  0.9893, -0.5940],\n",
       "        ...,\n",
       "        [-0.9879, -0.9793,  0.4304,  ...,  0.9782, -0.0486, -0.9716],\n",
       "        [ 0.2279,  0.5933,  0.4355,  ..., -0.4843,  0.9892,  0.9284],\n",
       "        [-0.6501,  0.0256, -0.9996,  ..., -0.9628, -0.3969, -0.9827]])"
      ]
     },
     "execution_count": 12,
     "metadata": {},
     "output_type": "execute_result"
    }
   ],
   "source": [
    "h"
   ]
  },
  {
   "cell_type": "code",
   "execution_count": 13,
   "id": "f3245483",
   "metadata": {},
   "outputs": [
    {
     "data": {
      "text/plain": [
       "torch.Size([38, 100])"
      ]
     },
     "execution_count": 13,
     "metadata": {},
     "output_type": "execute_result"
    }
   ],
   "source": [
    "h.shape"
   ]
  },
  {
   "cell_type": "code",
   "execution_count": 14,
   "id": "7afdc6d8",
   "metadata": {},
   "outputs": [],
   "source": [
    "W2 = torch.randn((100,27))\n",
    "b2 = torch.randn(27)"
   ]
  },
  {
   "cell_type": "code",
   "execution_count": 15,
   "id": "9d3eb0bd",
   "metadata": {},
   "outputs": [
    {
     "data": {
      "text/plain": [
       "torch.Size([38, 27])"
      ]
     },
     "execution_count": 15,
     "metadata": {},
     "output_type": "execute_result"
    }
   ],
   "source": [
    "logits = h @ W2 + b2\n",
    "logits.shape"
   ]
  },
  {
   "cell_type": "code",
   "execution_count": 16,
   "id": "b5827202",
   "metadata": {},
   "outputs": [],
   "source": [
    "counts = logits.exp()"
   ]
  },
  {
   "cell_type": "code",
   "execution_count": 17,
   "id": "5d6b5fd8",
   "metadata": {},
   "outputs": [],
   "source": [
    "prob = counts/counts.sum(1,keepdims=True)"
   ]
  },
  {
   "cell_type": "code",
   "execution_count": 18,
   "id": "3af791c2",
   "metadata": {},
   "outputs": [
    {
     "data": {
      "text/plain": [
       "torch.Size([38, 27])"
      ]
     },
     "execution_count": 18,
     "metadata": {},
     "output_type": "execute_result"
    }
   ],
   "source": [
    "prob.shape"
   ]
  },
  {
   "cell_type": "code",
   "execution_count": 19,
   "id": "c25361c8",
   "metadata": {},
   "outputs": [
    {
     "data": {
      "text/plain": [
       "tensor([16, 18,  1, 20, 21, 12,  0, 20,  8,  1, 14,  1, 18,  1, 10,  0, 13,  1,\n",
       "        14, 20,  9, 11,  0, 25,  1,  4,  9, 20,  1,  0, 13,  5,  4,  8,  1, 14,\n",
       "         9,  0])"
      ]
     },
     "execution_count": 19,
     "metadata": {},
     "output_type": "execute_result"
    }
   ],
   "source": [
    "Y"
   ]
  },
  {
   "cell_type": "code",
   "execution_count": 20,
   "id": "47714537",
   "metadata": {},
   "outputs": [
    {
     "data": {
      "text/plain": [
       "tensor(18.1750)"
      ]
     },
     "execution_count": 20,
     "metadata": {},
     "output_type": "execute_result"
    }
   ],
   "source": [
    "loss = -prob[torch.arange(len(Y)), Y].log().mean()\n",
    "loss"
   ]
  },
  {
   "cell_type": "code",
   "execution_count": null,
   "id": "431ac507",
   "metadata": {},
   "outputs": [],
   "source": []
  }
 ],
 "metadata": {
  "kernelspec": {
   "display_name": "neuralnets",
   "language": "python",
   "name": "python3"
  },
  "language_info": {
   "codemirror_mode": {
    "name": "ipython",
    "version": 3
   },
   "file_extension": ".py",
   "mimetype": "text/x-python",
   "name": "python",
   "nbconvert_exporter": "python",
   "pygments_lexer": "ipython3",
   "version": "3.10.18"
  }
 },
 "nbformat": 4,
 "nbformat_minor": 5
}
