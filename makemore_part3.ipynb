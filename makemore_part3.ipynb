{
 "cells": [
  {
   "cell_type": "code",
   "execution_count": 2,
   "id": "ea72b4e4",
   "metadata": {},
   "outputs": [],
   "source": [
    "import torch\n",
    "import torch.nn.functional as F\n",
    "import matplotlib.pyplot as plt # for making figures\n",
    "%matplotlib inline"
   ]
  },
  {
   "cell_type": "code",
   "execution_count": 3,
   "id": "68166ad4",
   "metadata": {},
   "outputs": [
    {
     "data": {
      "text/plain": [
       "['madhukavin',\n",
       " 'yanushitha',\n",
       " 'kritheikaa',\n",
       " 'parivadhana',\n",
       " 'kirtinath',\n",
       " 'vrisangan',\n",
       " 'hasvanth',\n",
       " 'mamata']"
      ]
     },
     "execution_count": 3,
     "metadata": {},
     "output_type": "execute_result"
    }
   ],
   "source": [
    "import random\n",
    "words = open('Indian_Names.txt', 'r').read().splitlines()\n",
    "\n",
    "random.shuffle(words)\n",
    "words = [w.lower() for w in words]\n",
    "words[:8]"
   ]
  },
  {
   "cell_type": "code",
   "execution_count": 4,
   "id": "a93914fd",
   "metadata": {},
   "outputs": [
    {
     "name": "stdout",
     "output_type": "stream",
     "text": [
      "{1: 'a', 2: 'b', 3: 'c', 4: 'd', 5: 'e', 6: 'f', 7: 'g', 8: 'h', 9: 'i', 10: 'j', 11: 'k', 12: 'l', 13: 'm', 14: 'n', 15: 'o', 16: 'p', 17: 'q', 18: 'r', 19: 's', 20: 't', 21: 'u', 22: 'v', 23: 'w', 24: 'x', 25: 'y', 26: 'z', 0: '.'}\n",
      "27\n"
     ]
    }
   ],
   "source": [
    "chars = sorted(list(set(''.join(words))))\n",
    "stoi = {s:i+1 for i,s in enumerate(chars)}\n",
    "stoi['.'] = 0\n",
    "itos = {i:s for s,i in stoi.items()}\n",
    "vocab_size = len(itos)\n",
    "print(itos)\n",
    "print(vocab_size)"
   ]
  },
  {
   "cell_type": "code",
   "execution_count": 5,
   "id": "a648e583",
   "metadata": {},
   "outputs": [
    {
     "name": "stdout",
     "output_type": "stream",
     "text": [
      "torch.Size([390282, 3]) torch.Size([390282])\n",
      "torch.Size([48788, 3]) torch.Size([48788])\n",
      "torch.Size([49004, 3]) torch.Size([49004])\n"
     ]
    }
   ],
   "source": [
    "# build the dataset\n",
    "block_size = 3 # context length: how many characters do we take to predict the next one?\n",
    "\n",
    "def build_dataset(words):  \n",
    "  X, Y = [], []\n",
    "  \n",
    "  for w in words:\n",
    "    context = [0] * block_size\n",
    "    for ch in w + '.':\n",
    "      ix = stoi[ch]\n",
    "      X.append(context)\n",
    "      Y.append(ix)\n",
    "      context = context[1:] + [ix] # crop and append\n",
    "\n",
    "  X = torch.tensor(X)\n",
    "  Y = torch.tensor(Y)\n",
    "  print(X.shape, Y.shape)\n",
    "  return X, Y\n",
    "\n",
    "import random\n",
    "random.seed(42)\n",
    "random.shuffle(words)\n",
    "n1 = int(0.8*len(words))\n",
    "n2 = int(0.9*len(words))\n",
    "\n",
    "Xtr,  Ytr  = build_dataset(words[:n1])     # 80%\n",
    "Xdev, Ydev = build_dataset(words[n1:n2])   # 10%\n",
    "Xte,  Yte  = build_dataset(words[n2:])     # 10%"
   ]
  },
  {
   "cell_type": "code",
   "execution_count": 32,
   "id": "26b3adcd",
   "metadata": {},
   "outputs": [
    {
     "name": "stdout",
     "output_type": "stream",
     "text": [
      "11697\n"
     ]
    }
   ],
   "source": [
    "# MLP revisited\n",
    "n_embd = 10 # the dimensionality of the character embedding vectors\n",
    "n_hidden = 200 # the number of neurons in the hidden layer of the MLP\n",
    "\n",
    "g = torch.Generator().manual_seed(2147483647) # for reproducibility\n",
    "C  = torch.randn((vocab_size, n_embd),            generator=g)\n",
    "W1 = torch.randn((n_embd * block_size, n_hidden), generator=g) * 0.2\n",
    "b1 = torch.randn(n_hidden,                        generator=g) * 0.01\n",
    "W2 = torch.randn((n_hidden, vocab_size),          generator=g) * 0.01\n",
    "b2 = torch.randn(vocab_size,                      generator=g) * 0\n",
    "\n",
    "parameters = [C, W1, W2, b2]\n",
    "print(sum(p.nelement() for p in parameters)) # number of parameters in total\n",
    "for p in parameters:\n",
    "  p.requires_grad = True"
   ]
  },
  {
   "cell_type": "code",
   "execution_count": 37,
   "id": "751c1eef",
   "metadata": {},
   "outputs": [
    {
     "name": "stdout",
     "output_type": "stream",
     "text": [
      "      0/ 200000: 3.2395\n",
      "  10000/ 200000: 2.0379\n",
      "  20000/ 200000: 1.5072\n",
      "  30000/ 200000: 2.2684\n",
      "  40000/ 200000: 2.0566\n",
      "  50000/ 200000: 1.6243\n",
      "  60000/ 200000: 2.1941\n",
      "  70000/ 200000: 2.1397\n",
      "  80000/ 200000: 1.8008\n",
      "  90000/ 200000: 2.0520\n",
      " 100000/ 200000: 1.9520\n",
      " 110000/ 200000: 1.9879\n",
      " 120000/ 200000: 1.7392\n",
      " 130000/ 200000: 1.7774\n",
      " 140000/ 200000: 2.0300\n",
      " 150000/ 200000: 1.5310\n",
      " 160000/ 200000: 1.8264\n",
      " 170000/ 200000: 1.9045\n",
      " 180000/ 200000: 1.7838\n",
      " 190000/ 200000: 1.7353\n"
     ]
    }
   ],
   "source": [
    "# same optimization as last time\n",
    "max_steps = 200000\n",
    "batch_size = 32\n",
    "lossi = []\n",
    "\n",
    "for i in range(max_steps):\n",
    "  \n",
    "  # minibatch construct\n",
    "  ix = torch.randint(0, Xtr.shape[0], (batch_size,), generator=g)\n",
    "  Xb, Yb = Xtr[ix], Ytr[ix] # batch X,Y\n",
    "  \n",
    "  # forward pass\n",
    "  emb = C[Xb] # embed the characters into vectors\n",
    "  embcat = emb.view(emb.shape[0], -1) # concatenate the vectors\n",
    "  # Linear layer\n",
    "  hpreact = embcat @ W1 #+ b1 # hidden layer pre-activation\n",
    "\n",
    "  h = torch.tanh(hpreact) # hidden layer\n",
    "  logits = h @ W2 + b2 # output layer\n",
    "  loss = F.cross_entropy(logits, Yb) # loss function\n",
    "  \n",
    "  # backward pass\n",
    "  for p in parameters:\n",
    "    p.grad = None\n",
    "  loss.backward()\n",
    "  \n",
    "  # update\n",
    "  lr = 0.1 if i < 100000 else 0.01 # step learning rate decay\n",
    "  for p in parameters:\n",
    "    p.data += -lr * p.grad\n",
    "\n",
    "  # track stats\n",
    "  if i % 10000 == 0: # print every once in a while\n",
    "    print(f'{i:7d}/{max_steps:7d}: {loss.item():.4f}')\n",
    "  lossi.append(loss.log10().item())\n",
    "\n"
   ]
  },
  {
   "cell_type": "code",
   "execution_count": 34,
   "id": "e768e2a2",
   "metadata": {},
   "outputs": [
    {
     "data": {
      "text/plain": [
       "<matplotlib.image.AxesImage at 0x122606710>"
      ]
     },
     "execution_count": 34,
     "metadata": {},
     "output_type": "execute_result"
    },
    {
     "data": {
      "image/png": "[encoded data removed]",
      "text/plain": [
       "<Figure size 2000x1000 with 1 Axes>"
      ]
     },
     "metadata": {},
     "output_type": "display_data"
    }
   ],
   "source": [
    "plt.figure(figsize=(20,10))\n",
    "plt.imshow(h.abs()>0.99,cmap='gray',interpolation='nearest')"
   ]
  },
  {
   "cell_type": "code",
   "execution_count": 35,
   "id": "fb3024fc",
   "metadata": {},
   "outputs": [
    {
     "data": {
      "text/plain": [
       "(array([218., 222., 191., 175., 153., 132., 146., 111.,  96., 139., 101.,\n",
       "         97., 109.,  80., 104.,  91.,  82., 105., 100., 106., 108.,  93.,\n",
       "         96.,  86.,  86.,  99.,  86., 101.,  85.,  89.,  67., 117., 105.,\n",
       "        108.,  93., 102., 105., 113., 130., 103., 127., 140., 142., 158.,\n",
       "        152., 164., 189., 213., 241., 344.]),\n",
       " array([-9.99887943e-01, -9.59897236e-01, -9.19906528e-01, -8.79915820e-01,\n",
       "        -8.39925113e-01, -7.99934405e-01, -7.59943697e-01, -7.19952990e-01,\n",
       "        -6.79962282e-01, -6.39971575e-01, -5.99980867e-01, -5.59990159e-01,\n",
       "        -5.19999452e-01, -4.80008744e-01, -4.40018036e-01, -4.00027329e-01,\n",
       "        -3.60036621e-01, -3.20045913e-01, -2.80055206e-01, -2.40064498e-01,\n",
       "        -2.00073791e-01, -1.60083083e-01, -1.20092375e-01, -8.01016676e-02,\n",
       "        -4.01109600e-02, -1.20252371e-04,  3.98704553e-02,  7.98611629e-02,\n",
       "         1.19851871e-01,  1.59842578e-01,  1.99833286e-01,  2.39823993e-01,\n",
       "         2.79814701e-01,  3.19805409e-01,  3.59796116e-01,  3.99786824e-01,\n",
       "         4.39777532e-01,  4.79768239e-01,  5.19758947e-01,  5.59749655e-01,\n",
       "         5.99740362e-01,  6.39731070e-01,  6.79721777e-01,  7.19712485e-01,\n",
       "         7.59703193e-01,  7.99693900e-01,  8.39684608e-01,  8.79675316e-01,\n",
       "         9.19666023e-01,  9.59656731e-01,  9.99647439e-01]),\n",
       " <BarContainer object of 50 artists>)"
      ]
     },
     "execution_count": 35,
     "metadata": {},
     "output_type": "execute_result"
    },
    {
     "data": {
      "image/png": "[encoded data removed]",
      "text/plain": [
       "<Figure size 640x480 with 1 Axes>"
      ]
     },
     "metadata": {},
     "output_type": "display_data"
    }
   ],
   "source": [
    "plt.hist(h.view(-1).tolist(),50)"
   ]
  },
  {
   "cell_type": "code",
   "execution_count": 36,
   "id": "669e4c38",
   "metadata": {},
   "outputs": [
    {
     "data": {
      "text/plain": [
       "(array([  1.,   1.,   0.,   1.,   0.,   1.,   3.,   3.,   8.,  11.,   8.,\n",
       "         22.,  23.,  34.,  48.,  54.,  90., 141., 166., 211., 234., 274.,\n",
       "        309., 329., 383., 438., 421., 398., 423., 401., 347., 329., 264.,\n",
       "        224., 194., 140., 109.,  98.,  72.,  56.,  39.,  28.,  21.,  17.,\n",
       "          9.,   9.,   4.,   1.,   1.,   2.]),\n",
       " array([-4.89476395, -4.71043654, -4.52610914, -4.34178174, -4.15745434,\n",
       "        -3.97312694, -3.78879953, -3.60447213, -3.42014473, -3.23581733,\n",
       "        -3.05148993, -2.86716252, -2.68283512, -2.49850772, -2.31418032,\n",
       "        -2.12985291, -1.94552551, -1.76119811, -1.57687071, -1.39254331,\n",
       "        -1.2082159 , -1.0238885 , -0.8395611 , -0.6552337 , -0.4709063 ,\n",
       "        -0.28657889, -0.10225149,  0.08207591,  0.26640331,  0.45073071,\n",
       "         0.63505812,  0.81938552,  1.00371292,  1.18804032,  1.37236773,\n",
       "         1.55669513,  1.74102253,  1.92534993,  2.10967733,  2.29400474,\n",
       "         2.47833214,  2.66265954,  2.84698694,  3.03131434,  3.21564175,\n",
       "         3.39996915,  3.58429655,  3.76862395,  3.95295135,  4.13727876,\n",
       "         4.32160616]),\n",
       " <BarContainer object of 50 artists>)"
      ]
     },
     "execution_count": 36,
     "metadata": {},
     "output_type": "execute_result"
    },
    {
     "data": {
      "image/png": "[encoded data removed]",
      "text/plain": [
       "<Figure size 640x480 with 1 Axes>"
      ]
     },
     "metadata": {},
     "output_type": "display_data"
    }
   ],
   "source": [
    "plt.hist(hpreact.view(-1).tolist(),50)"
   ]
  },
  {
   "cell_type": "code",
   "execution_count": 15,
   "id": "4a1b9eb3",
   "metadata": {},
   "outputs": [
    {
     "data": {
      "text/plain": [
       "[<matplotlib.lines.Line2D at 0x12365fca0>]"
      ]
     },
     "execution_count": 15,
     "metadata": {},
     "output_type": "execute_result"
    },
    {
     "data": {
      "image/png": "[encoded data removed]",
      "text/plain": [
       "<Figure size 640x480 with 1 Axes>"
      ]
     },
     "metadata": {},
     "output_type": "display_data"
    }
   ],
   "source": [
    "plt.plot(lossi)"
   ]
  },
  {
   "cell_type": "code",
   "execution_count": 38,
   "id": "26cc95aa",
   "metadata": {},
   "outputs": [
    {
     "name": "stdout",
     "output_type": "stream",
     "text": [
      "train 1.8912400007247925\n",
      "val 1.913430094718933\n"
     ]
    }
   ],
   "source": [
    "@torch.no_grad() # this decorator disables gradient tracking\n",
    "def split_loss(split):\n",
    "  x,y = {\n",
    "    'train': (Xtr, Ytr),\n",
    "    'val': (Xdev, Ydev),\n",
    "    'test': (Xte, Yte),\n",
    "  }[split]\n",
    "  emb = C[x] # (N, block_size, n_embd)\n",
    "  embcat = emb.view(emb.shape[0], -1) # concat into (N, block_size * n_embd)\n",
    "  h = torch.tanh(embcat @ W1 + b1) # (N, n_hidden)\n",
    "  logits = h @ W2 + b2 # (N, vocab_size)\n",
    "  loss = F.cross_entropy(logits, y)\n",
    "  print(split, loss.item())\n",
    "\n",
    "split_loss('train')\n",
    "split_loss('val')"
   ]
  },
  {
   "cell_type": "code",
   "execution_count": 22,
   "id": "6a85e000",
   "metadata": {},
   "outputs": [
    {
     "name": "stdout",
     "output_type": "stream",
     "text": [
      "chaudhachuwha.\n",
      "khwwolhahavalahalalaloobahuha.\n",
      "vachvachvahaichvathratchadhvalaleobvuchha.\n",
      "vachvaganoohooovachvabi.\n",
      "wauwahgavarivugha.\n",
      "guvugulchad.\n",
      "galiyoghahahyathavaraghovuchvaya.\n",
      "vachovooba.\n",
      "char.\n",
      "vacharathae.\n",
      "vaadhuuovaowoovaliyahuonichanaliyoonah.\n",
      "vachahubhavyoh.\n",
      "avidhachvahoovachvuda.\n",
      "gavichawalochvaahunanadhachvalshawikhathwechahyah.\n",
      "chawooga.\n",
      "vathachuwahchaw.\n",
      "chihhach.\n",
      "valeoavinocharachawyohyahalyogu.\n",
      "chauwaryochawyohhachavalalithhathuadhauwahishwadhvakahal.\n",
      "vala.\n"
     ]
    }
   ],
   "source": [
    "# sample from the model\n",
    "g = torch.Generator().manual_seed(2147483647 + 10)\n",
    "\n",
    "for _ in range(20):\n",
    "    \n",
    "    out = []\n",
    "    context = [0] * block_size # initialize with all ...\n",
    "    while True:\n",
    "      emb = C[torch.tensor([context])] # (1,block_size,d)\n",
    "      h = torch.tanh(emb.view(1, -1) @ W1 + b1)\n",
    "      logits = h @ W2 + b2\n",
    "      probs = F.softmax(logits, dim=1)\n",
    "      ix = torch.multinomial(probs, num_samples=1, generator=g).item()\n",
    "      context = context[1:] + [ix]\n",
    "      out.append(ix)\n",
    "      if ix == 0:\n",
    "        break\n",
    "    \n",
    "    print(''.join(itos[i] for i in out))"
   ]
  }
 ],
 "metadata": {
  "kernelspec": {
   "display_name": "neuralnets",
   "language": "python",
   "name": "python3"
  },
  "language_info": {
   "codemirror_mode": {
    "name": "ipython",
    "version": 3
   },
   "file_extension": ".py",
   "mimetype": "text/x-python",
   "name": "python",
   "nbconvert_exporter": "python",
   "pygments_lexer": "ipython3",
   "version": "3.10.18"
  }
 },
 "nbformat": 4,
 "nbformat_minor": 5
}
